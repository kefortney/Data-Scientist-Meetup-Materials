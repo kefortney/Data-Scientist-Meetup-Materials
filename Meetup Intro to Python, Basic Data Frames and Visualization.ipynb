{
 "cells": [
  {
   "cell_type": "markdown",
   "metadata": {},
   "source": [
    "Burlington Data Scientists Meetup\n",
    "=======\n",
    "Working Session: Intro to Python, Basic Data Frames and Visualization\n",
    "-----------\n",
    "April 3, 2017 \n",
    "\n",
    "This will be a beginner class to help you get started on using Python for data analysis. Using a Jupyter Notebook (formally iPython Notebook) we will import a csv file from Burlington Open Data (https://data.burlingtonvt.gov/), explore the date frames with Pandas, and create basic visualizations with Matplotlib and Seaborn."
   ]
  },
  {
   "cell_type": "code",
   "execution_count": 1,
   "metadata": {
    "collapsed": true
   },
   "outputs": [],
   "source": [
    "%matplotlib inline\n",
    "\n",
    "# Handle table-like data and matrices\n",
    "import numpy as np\n",
    "import pandas as pd\n",
    "\n",
    "# Visualisation\n",
    "import matplotlib \n",
    "#import matplotlib.pyplot as plt\n",
    "#import matplotlib.pylab as pylab\n",
    "#import seaborn as sns"
   ]
  },
  {
   "cell_type": "code",
   "execution_count": 2,
   "metadata": {
    "collapsed": false
   },
   "outputs": [
    {
     "name": "stdout",
     "output_type": "stream",
     "text": [
      "Welcome to the Burlington Data Scientist Meetup\n"
     ]
    }
   ],
   "source": [
    "print(\"Welcome to the Burlington Data Scientist Meetup\")"
   ]
  },
  {
   "cell_type": "markdown",
   "metadata": {},
   "source": [
    "Load the CSV File\n",
    "------------"
   ]
  },
  {
   "cell_type": "code",
   "execution_count": 7,
   "metadata": {
    "collapsed": false
   },
   "outputs": [
    {
     "ename": "NameError",
     "evalue": "name 'pd' is not defined",
     "output_type": "error",
     "traceback": [
      "\u001b[1;31m---------------------------------------------------------------------------\u001b[0m",
      "\u001b[1;31mNameError\u001b[0m                                 Traceback (most recent call last)",
      "\u001b[1;32m<ipython-input-7-8b3dd2293163>\u001b[0m in \u001b[0;36m<module>\u001b[1;34m\u001b[0m\n\u001b[1;32m----> 1\u001b[1;33m \u001b[0mwholedf\u001b[0m \u001b[1;33m=\u001b[0m \u001b[0mpd\u001b[0m\u001b[1;33m.\u001b[0m\u001b[0mread_csv\u001b[0m\u001b[1;33m(\u001b[0m\u001b[1;34m'Police_Incident_Log.csv'\u001b[0m\u001b[1;33m)\u001b[0m\u001b[1;33m\u001b[0m\u001b[1;33m\u001b[0m\u001b[0m\n\u001b[0m\u001b[0;32m      2\u001b[0m \u001b[1;31m#wholedf = pd.read_csv('~/Desktop/Meetup/Police_Incident_Log.csv')\u001b[0m\u001b[1;33m\u001b[0m\u001b[1;33m\u001b[0m\u001b[1;33m\u001b[0m\u001b[0m\n\u001b[0;32m      3\u001b[0m \u001b[1;31m#wholedf = pd.read_csv('C:/Users/kefor/Desktop/Meetup/Police_Incident_Log.csv')\u001b[0m\u001b[1;33m\u001b[0m\u001b[1;33m\u001b[0m\u001b[1;33m\u001b[0m\u001b[0m\n",
      "\u001b[1;31mNameError\u001b[0m: name 'pd' is not defined"
     ]
    }
   ],
   "source": [
    "wholedf = pd.read_csv('Police_Incident_Log.csv')\n",
    "#wholedf = pd.read_csv('~/Desktop/Meetup/Police_Incident_Log.csv')\n",
    "#wholedf = pd.read_csv('C:/Users/kefor/Desktop/Meetup/Police_Incident_Log.csv')"
   ]
  },
  {
   "cell_type": "markdown",
   "metadata": {},
   "source": [
    "Explore Dataframe Contents\n",
    "-------------"
   ]
  },
  {
   "cell_type": "code",
   "execution_count": 4,
   "metadata": {
    "collapsed": false
   },
   "outputs": [
    {
     "data": {
      "text/html": [
       "<div>\n",
       "<table border=\"1\" class=\"dataframe\">\n",
       "  <thead>\n",
       "    <tr style=\"text-align: right;\">\n",
       "      <th></th>\n",
       "      <th>Incident Id</th>\n",
       "      <th>Call Type</th>\n",
       "      <th>Date</th>\n",
       "      <th>Location</th>\n",
       "      <th>Incident Number</th>\n",
       "    </tr>\n",
       "  </thead>\n",
       "  <tbody>\n",
       "    <tr>\n",
       "      <th>0</th>\n",
       "      <td>576</td>\n",
       "      <td>Domestic Disturbance</td>\n",
       "      <td>10/01/2011 07:10:00 PM</td>\n",
       "      <td>Park St</td>\n",
       "      <td>11BU023135</td>\n",
       "    </tr>\n",
       "    <tr>\n",
       "      <th>1</th>\n",
       "      <td>584</td>\n",
       "      <td>Traffic</td>\n",
       "      <td>10/01/2011 08:58:00 PM</td>\n",
       "      <td>S Winooski Ave/Bank St</td>\n",
       "      <td>11BU023143</td>\n",
       "    </tr>\n",
       "    <tr>\n",
       "      <th>2</th>\n",
       "      <td>586</td>\n",
       "      <td>Intoxication</td>\n",
       "      <td>10/01/2011 09:13:00 PM</td>\n",
       "      <td>Pearl St</td>\n",
       "      <td>11BU023145</td>\n",
       "    </tr>\n",
       "    <tr>\n",
       "      <th>3</th>\n",
       "      <td>587</td>\n",
       "      <td>Noise</td>\n",
       "      <td>10/01/2011 09:25:00 PM</td>\n",
       "      <td>No Willard St</td>\n",
       "      <td>11BU023146</td>\n",
       "    </tr>\n",
       "    <tr>\n",
       "      <th>4</th>\n",
       "      <td>591</td>\n",
       "      <td>Noise</td>\n",
       "      <td>10/01/2011 10:03:00 PM</td>\n",
       "      <td>Peru St</td>\n",
       "      <td>11BU023150</td>\n",
       "    </tr>\n",
       "    <tr>\n",
       "      <th>5</th>\n",
       "      <td>592</td>\n",
       "      <td>Traffic</td>\n",
       "      <td>10/01/2011 10:32:00 PM</td>\n",
       "      <td>Pine St/Locust St</td>\n",
       "      <td>11BU023151</td>\n",
       "    </tr>\n",
       "    <tr>\n",
       "      <th>6</th>\n",
       "      <td>595</td>\n",
       "      <td>Intoxication</td>\n",
       "      <td>10/01/2011 10:53:00 PM</td>\n",
       "      <td>Colchester Ave</td>\n",
       "      <td>11BU023154</td>\n",
       "    </tr>\n",
       "    <tr>\n",
       "      <th>7</th>\n",
       "      <td>599</td>\n",
       "      <td>Traffic</td>\n",
       "      <td>10/01/2011 11:40:00 PM</td>\n",
       "      <td>S Winooski Ave/Bank St</td>\n",
       "      <td>11BU023158</td>\n",
       "    </tr>\n",
       "    <tr>\n",
       "      <th>8</th>\n",
       "      <td>602</td>\n",
       "      <td>Noise</td>\n",
       "      <td>10/02/2011 12:02:00 AM</td>\n",
       "      <td>North St/N Winooski Ave</td>\n",
       "      <td>11BU023161</td>\n",
       "    </tr>\n",
       "    <tr>\n",
       "      <th>9</th>\n",
       "      <td>603</td>\n",
       "      <td>Assault - Simple</td>\n",
       "      <td>10/02/2011 12:10:00 AM</td>\n",
       "      <td>Converse Ct</td>\n",
       "      <td>11BU023162</td>\n",
       "    </tr>\n",
       "  </tbody>\n",
       "</table>\n",
       "</div>"
      ],
      "text/plain": [
       "   Incident Id             Call Type                    Date  \\\n",
       "0          576  Domestic Disturbance  10/01/2011 07:10:00 PM   \n",
       "1          584               Traffic  10/01/2011 08:58:00 PM   \n",
       "2          586          Intoxication  10/01/2011 09:13:00 PM   \n",
       "3          587                 Noise  10/01/2011 09:25:00 PM   \n",
       "4          591                 Noise  10/01/2011 10:03:00 PM   \n",
       "5          592               Traffic  10/01/2011 10:32:00 PM   \n",
       "6          595          Intoxication  10/01/2011 10:53:00 PM   \n",
       "7          599               Traffic  10/01/2011 11:40:00 PM   \n",
       "8          602                 Noise  10/02/2011 12:02:00 AM   \n",
       "9          603      Assault - Simple  10/02/2011 12:10:00 AM   \n",
       "\n",
       "                  Location Incident Number  \n",
       "0                  Park St      11BU023135  \n",
       "1   S Winooski Ave/Bank St      11BU023143  \n",
       "2                 Pearl St      11BU023145  \n",
       "3            No Willard St      11BU023146  \n",
       "4                  Peru St      11BU023150  \n",
       "5        Pine St/Locust St      11BU023151  \n",
       "6           Colchester Ave      11BU023154  \n",
       "7   S Winooski Ave/Bank St      11BU023158  \n",
       "8  North St/N Winooski Ave      11BU023161  \n",
       "9              Converse Ct      11BU023162  "
      ]
     },
     "execution_count": 4,
     "metadata": {},
     "output_type": "execute_result"
    }
   ],
   "source": [
    "# Lists the first lines in a dataframe\n",
    "wholedf.head(10)"
   ]
  },
  {
   "cell_type": "code",
   "execution_count": 5,
   "metadata": {
    "collapsed": false
   },
   "outputs": [
    {
     "data": {
      "text/html": [
       "<div>\n",
       "<table border=\"1\" class=\"dataframe\">\n",
       "  <thead>\n",
       "    <tr style=\"text-align: right;\">\n",
       "      <th></th>\n",
       "      <th>Incident Id</th>\n",
       "      <th>Call Type</th>\n",
       "      <th>Date</th>\n",
       "      <th>Location</th>\n",
       "      <th>Incident Number</th>\n",
       "    </tr>\n",
       "  </thead>\n",
       "  <tbody>\n",
       "    <tr>\n",
       "      <th>28823</th>\n",
       "      <td>159162</td>\n",
       "      <td>Stolen Vehicle</td>\n",
       "      <td>09/18/2013 12:50:00 PM</td>\n",
       "      <td>S Winooski Ave</td>\n",
       "      <td>13BU025009</td>\n",
       "    </tr>\n",
       "    <tr>\n",
       "      <th>28824</th>\n",
       "      <td>160945</td>\n",
       "      <td>Trespass</td>\n",
       "      <td>09/21/2013 01:59:00 PM</td>\n",
       "      <td>Pearl St</td>\n",
       "      <td>13BU025379</td>\n",
       "    </tr>\n",
       "    <tr>\n",
       "      <th>28825</th>\n",
       "      <td>161280</td>\n",
       "      <td>Noise</td>\n",
       "      <td>09/22/2013 04:09:00 AM</td>\n",
       "      <td>S Union St</td>\n",
       "      <td>13BU025467</td>\n",
       "    </tr>\n",
       "    <tr>\n",
       "      <th>28826</th>\n",
       "      <td>164261</td>\n",
       "      <td>Noise</td>\n",
       "      <td>09/27/2013 10:58:00 PM</td>\n",
       "      <td>S Union St/Kingsland Terr</td>\n",
       "      <td>13BU026061</td>\n",
       "    </tr>\n",
       "    <tr>\n",
       "      <th>28827</th>\n",
       "      <td>165840</td>\n",
       "      <td>Vandalism</td>\n",
       "      <td>10/01/2013 08:44:00 AM</td>\n",
       "      <td>Lakeside Ave</td>\n",
       "      <td>13BU026395</td>\n",
       "    </tr>\n",
       "    <tr>\n",
       "      <th>28828</th>\n",
       "      <td>169204</td>\n",
       "      <td>Domestic Disturbance</td>\n",
       "      <td>10/07/2013 03:26:00 PM</td>\n",
       "      <td>Church St/King St</td>\n",
       "      <td>13BU027107</td>\n",
       "    </tr>\n",
       "    <tr>\n",
       "      <th>28829</th>\n",
       "      <td>173283</td>\n",
       "      <td>Ordinance Violation - Other</td>\n",
       "      <td>10/15/2013 05:14:00 PM</td>\n",
       "      <td>Shelburne Rd</td>\n",
       "      <td>13BU027957</td>\n",
       "    </tr>\n",
       "    <tr>\n",
       "      <th>28830</th>\n",
       "      <td>177985</td>\n",
       "      <td>Noise</td>\n",
       "      <td>10/25/2013 01:40:00 AM</td>\n",
       "      <td>College St</td>\n",
       "      <td>13BU028878</td>\n",
       "    </tr>\n",
       "    <tr>\n",
       "      <th>28831</th>\n",
       "      <td>180001</td>\n",
       "      <td>Larceny - from Building</td>\n",
       "      <td>10/29/2013 02:08:00 PM</td>\n",
       "      <td>N Union St</td>\n",
       "      <td>13BU029253</td>\n",
       "    </tr>\n",
       "    <tr>\n",
       "      <th>28832</th>\n",
       "      <td>186525</td>\n",
       "      <td>Larceny - from Building</td>\n",
       "      <td>11/12/2013 02:35:00 PM</td>\n",
       "      <td>N Winooski Ave</td>\n",
       "      <td>13BU030503</td>\n",
       "    </tr>\n",
       "  </tbody>\n",
       "</table>\n",
       "</div>"
      ],
      "text/plain": [
       "       Incident Id                    Call Type                    Date  \\\n",
       "28823       159162               Stolen Vehicle  09/18/2013 12:50:00 PM   \n",
       "28824       160945                     Trespass  09/21/2013 01:59:00 PM   \n",
       "28825       161280                        Noise  09/22/2013 04:09:00 AM   \n",
       "28826       164261                        Noise  09/27/2013 10:58:00 PM   \n",
       "28827       165840                    Vandalism  10/01/2013 08:44:00 AM   \n",
       "28828       169204         Domestic Disturbance  10/07/2013 03:26:00 PM   \n",
       "28829       173283  Ordinance Violation - Other  10/15/2013 05:14:00 PM   \n",
       "28830       177985                        Noise  10/25/2013 01:40:00 AM   \n",
       "28831       180001      Larceny - from Building  10/29/2013 02:08:00 PM   \n",
       "28832       186525      Larceny - from Building  11/12/2013 02:35:00 PM   \n",
       "\n",
       "                        Location Incident Number  \n",
       "28823             S Winooski Ave      13BU025009  \n",
       "28824                   Pearl St      13BU025379  \n",
       "28825                 S Union St      13BU025467  \n",
       "28826  S Union St/Kingsland Terr      13BU026061  \n",
       "28827               Lakeside Ave      13BU026395  \n",
       "28828          Church St/King St      13BU027107  \n",
       "28829               Shelburne Rd      13BU027957  \n",
       "28830                 College St      13BU028878  \n",
       "28831                 N Union St      13BU029253  \n",
       "28832             N Winooski Ave      13BU030503  "
      ]
     },
     "execution_count": 5,
     "metadata": {},
     "output_type": "execute_result"
    }
   ],
   "source": [
    "# Lists the last rows in a dataframe\n",
    "wholedf.tail(10)"
   ]
  },
  {
   "cell_type": "code",
   "execution_count": 6,
   "metadata": {
    "collapsed": false
   },
   "outputs": [
    {
     "data": {
      "text/plain": [
       "['Incident Id', 'Call Type', 'Date', 'Location', 'Incident Number']"
      ]
     },
     "execution_count": 6,
     "metadata": {},
     "output_type": "execute_result"
    }
   ],
   "source": [
    "# List out all the column names \n",
    "list(wholedf)"
   ]
  },
  {
   "cell_type": "code",
   "execution_count": 7,
   "metadata": {
    "collapsed": false
   },
   "outputs": [
    {
     "name": "stdout",
     "output_type": "stream",
     "text": [
      "<class 'pandas.core.frame.DataFrame'>\n",
      "RangeIndex: 28833 entries, 0 to 28832\n",
      "Data columns (total 5 columns):\n",
      "Incident Id        28833 non-null int64\n",
      "Call Type          28833 non-null object\n",
      "Date               28833 non-null object\n",
      "Location           28813 non-null object\n",
      "Incident Number    28833 non-null object\n",
      "dtypes: int64(1), object(4)\n",
      "memory usage: 1.1+ MB\n"
     ]
    }
   ],
   "source": [
    "# Lists summary info of datafram including count of non-null elements, data type, memory useage and range index\n",
    "wholedf.info()"
   ]
  },
  {
   "cell_type": "code",
   "execution_count": 8,
   "metadata": {
    "collapsed": false
   },
   "outputs": [
    {
     "data": {
      "text/plain": [
       "(28833, 5)"
      ]
     },
     "execution_count": 8,
     "metadata": {},
     "output_type": "execute_result"
    }
   ],
   "source": [
    "# Tells you how many rows and columns in a dataframe\n",
    "wholedf.shape\n",
    "#len(wholedf.index)"
   ]
  },
  {
   "cell_type": "code",
   "execution_count": 9,
   "metadata": {
    "collapsed": false
   },
   "outputs": [
    {
     "data": {
      "text/plain": [
       "array(['Park St', 'S Winooski Ave/Bank St', 'Pearl St', ...,\n",
       "       'Summer St/Front St', 'Intervale', 'Pine Pl/St Paul St'], dtype=object)"
      ]
     },
     "execution_count": 9,
     "metadata": {},
     "output_type": "execute_result"
    }
   ],
   "source": [
    "# Returns an array of unique values \n",
    "pd.unique(wholedf.Location)"
   ]
  },
  {
   "cell_type": "markdown",
   "metadata": {},
   "source": [
    "Understanding the Numbers\n",
    "--------------"
   ]
  },
  {
   "cell_type": "code",
   "execution_count": 10,
   "metadata": {
    "collapsed": false
   },
   "outputs": [
    {
     "data": {
      "text/plain": [
       "Incident Id        28833\n",
       "Call Type          28833\n",
       "Date               28833\n",
       "Location           28813\n",
       "Incident Number    28833\n",
       "dtype: int64"
      ]
     },
     "execution_count": 10,
     "metadata": {},
     "output_type": "execute_result"
    }
   ],
   "source": [
    "# Returns a count of not null elements in each column (much like df.info)\n",
    "wholedf.count()\n",
    "\n",
    "# Returns a list of numerical columns with total sum\n",
    "wholedf.sum()\n",
    "\n",
    "# Returns a list of numerical columns with standard deviation\n",
    "wholedf.std()\n",
    "\n",
    "# Returns a list of numerical columns with mean\n",
    "wholedf.mean()\n",
    "\n",
    "# Returns a list of numerical columns with median\n",
    "wholedf.median()\n",
    "\n",
    "# Returns the min for any float or int64\n",
    "wholedf.min()\n",
    "\n",
    "# Returns the max for any float or int64\n",
    "wholedf.max()\n",
    "\n",
    "# Mathmatical description and statistics of all numerical columns\n",
    "wholedf.describe()\n"
   ]
  },
  {
   "cell_type": "markdown",
   "metadata": {},
   "source": [
    "Finding Missing Values\n",
    "----------"
   ]
  },
  {
   "cell_type": "code",
   "execution_count": 11,
   "metadata": {
    "collapsed": false
   },
   "outputs": [
    {
     "data": {
      "text/html": [
       "<div>\n",
       "<table border=\"1\" class=\"dataframe\">\n",
       "  <thead>\n",
       "    <tr style=\"text-align: right;\">\n",
       "      <th></th>\n",
       "      <th>Incident Id</th>\n",
       "      <th>Call Type</th>\n",
       "      <th>Date</th>\n",
       "      <th>Location</th>\n",
       "      <th>Incident Number</th>\n",
       "    </tr>\n",
       "  </thead>\n",
       "  <tbody>\n",
       "    <tr>\n",
       "      <th>0</th>\n",
       "      <td>False</td>\n",
       "      <td>False</td>\n",
       "      <td>False</td>\n",
       "      <td>False</td>\n",
       "      <td>False</td>\n",
       "    </tr>\n",
       "    <tr>\n",
       "      <th>1</th>\n",
       "      <td>False</td>\n",
       "      <td>False</td>\n",
       "      <td>False</td>\n",
       "      <td>False</td>\n",
       "      <td>False</td>\n",
       "    </tr>\n",
       "    <tr>\n",
       "      <th>2</th>\n",
       "      <td>False</td>\n",
       "      <td>False</td>\n",
       "      <td>False</td>\n",
       "      <td>False</td>\n",
       "      <td>False</td>\n",
       "    </tr>\n",
       "    <tr>\n",
       "      <th>3</th>\n",
       "      <td>False</td>\n",
       "      <td>False</td>\n",
       "      <td>False</td>\n",
       "      <td>False</td>\n",
       "      <td>False</td>\n",
       "    </tr>\n",
       "    <tr>\n",
       "      <th>4</th>\n",
       "      <td>False</td>\n",
       "      <td>False</td>\n",
       "      <td>False</td>\n",
       "      <td>False</td>\n",
       "      <td>False</td>\n",
       "    </tr>\n",
       "  </tbody>\n",
       "</table>\n",
       "</div>"
      ],
      "text/plain": [
       "  Incident Id Call Type   Date Location Incident Number\n",
       "0       False     False  False    False           False\n",
       "1       False     False  False    False           False\n",
       "2       False     False  False    False           False\n",
       "3       False     False  False    False           False\n",
       "4       False     False  False    False           False"
      ]
     },
     "execution_count": 11,
     "metadata": {},
     "output_type": "execute_result"
    }
   ],
   "source": [
    "test = wholedf.isnull()\n",
    "test.head(5)"
   ]
  },
  {
   "cell_type": "code",
   "execution_count": 12,
   "metadata": {
    "collapsed": false
   },
   "outputs": [
    {
     "data": {
      "text/plain": [
       "Incident Id         0\n",
       "Call Type           0\n",
       "Date                0\n",
       "Location           20\n",
       "Incident Number     0\n",
       "dtype: int64"
      ]
     },
     "execution_count": 12,
     "metadata": {},
     "output_type": "execute_result"
    }
   ],
   "source": [
    "# Adds up all the times a value is null or missing\n",
    "wholedf.isnull().sum()"
   ]
  },
  {
   "cell_type": "code",
   "execution_count": 13,
   "metadata": {
    "collapsed": false
   },
   "outputs": [
    {
     "data": {
      "text/plain": [
       "Incident Id        28833\n",
       "Call Type          28833\n",
       "Date               28833\n",
       "Location           28813\n",
       "Incident Number    28833\n",
       "dtype: int64"
      ]
     },
     "execution_count": 13,
     "metadata": {},
     "output_type": "execute_result"
    }
   ],
   "source": [
    "# Adds up all the not null values\n",
    "wholedf.notnull().sum()"
   ]
  },
  {
   "cell_type": "code",
   "execution_count": 14,
   "metadata": {
    "collapsed": true
   },
   "outputs": [],
   "source": [
    "# Replace missing values with a text of \"Main St\"\n",
    "wholedf[\"Location\"] = wholedf[\"Location\"].fillna(\"Main St\")\n",
    "\n",
    "# Replace missing values with a median, or a mean.\n",
    "#wholedf[\"Location\"] = wholedf[\"Location\"].fillna(wholedf[\"Location\"].median(), inplace=True)"
   ]
  },
  {
   "cell_type": "code",
   "execution_count": 15,
   "metadata": {
    "collapsed": false
   },
   "outputs": [
    {
     "data": {
      "text/html": [
       "<div>\n",
       "<table border=\"1\" class=\"dataframe\">\n",
       "  <thead>\n",
       "    <tr style=\"text-align: right;\">\n",
       "      <th></th>\n",
       "      <th>Incident Id</th>\n",
       "      <th>Call Type</th>\n",
       "      <th>Date</th>\n",
       "      <th>Location</th>\n",
       "      <th>Incident Number</th>\n",
       "    </tr>\n",
       "  </thead>\n",
       "  <tbody>\n",
       "    <tr>\n",
       "      <th>0</th>\n",
       "      <td>576</td>\n",
       "      <td>Domestic Disturbance</td>\n",
       "      <td>10/01/2011 07:10:00 PM</td>\n",
       "      <td>Park St</td>\n",
       "      <td>11BU023135</td>\n",
       "    </tr>\n",
       "    <tr>\n",
       "      <th>1</th>\n",
       "      <td>584</td>\n",
       "      <td>Traffic</td>\n",
       "      <td>10/01/2011 08:58:00 PM</td>\n",
       "      <td>S Winooski Ave/Bank St</td>\n",
       "      <td>11BU023143</td>\n",
       "    </tr>\n",
       "    <tr>\n",
       "      <th>2</th>\n",
       "      <td>586</td>\n",
       "      <td>Intoxication</td>\n",
       "      <td>10/01/2011 09:13:00 PM</td>\n",
       "      <td>Pearl St</td>\n",
       "      <td>11BU023145</td>\n",
       "    </tr>\n",
       "    <tr>\n",
       "      <th>3</th>\n",
       "      <td>587</td>\n",
       "      <td>Noise</td>\n",
       "      <td>10/01/2011 09:25:00 PM</td>\n",
       "      <td>No Willard St</td>\n",
       "      <td>11BU024312414</td>\n",
       "    </tr>\n",
       "    <tr>\n",
       "      <th>4</th>\n",
       "      <td>591</td>\n",
       "      <td>Noise</td>\n",
       "      <td>10/01/2011 10:03:00 PM</td>\n",
       "      <td>Peru St</td>\n",
       "      <td>11BU023150</td>\n",
       "    </tr>\n",
       "  </tbody>\n",
       "</table>\n",
       "</div>"
      ],
      "text/plain": [
       "   Incident Id             Call Type                    Date  \\\n",
       "0          576  Domestic Disturbance  10/01/2011 07:10:00 PM   \n",
       "1          584               Traffic  10/01/2011 08:58:00 PM   \n",
       "2          586          Intoxication  10/01/2011 09:13:00 PM   \n",
       "3          587                 Noise  10/01/2011 09:25:00 PM   \n",
       "4          591                 Noise  10/01/2011 10:03:00 PM   \n",
       "\n",
       "                 Location Incident Number  \n",
       "0                 Park St      11BU023135  \n",
       "1  S Winooski Ave/Bank St      11BU023143  \n",
       "2                Pearl St      11BU023145  \n",
       "3           No Willard St   11BU024312414  \n",
       "4                 Peru St      11BU023150  "
      ]
     },
     "execution_count": 15,
     "metadata": {},
     "output_type": "execute_result"
    }
   ],
   "source": [
    "# Replaces that value in the whole dataframe\n",
    "dfreplace = wholedf.replace(\"11BU023146\",\"11BU024312414\")\n",
    "dfreplace.head(5)"
   ]
  },
  {
   "cell_type": "code",
   "execution_count": 16,
   "metadata": {
    "collapsed": false
   },
   "outputs": [
    {
     "data": {
      "text/html": [
       "<div>\n",
       "<table border=\"1\" class=\"dataframe\">\n",
       "  <thead>\n",
       "    <tr style=\"text-align: right;\">\n",
       "      <th></th>\n",
       "      <th>Incident Id</th>\n",
       "      <th>Call Type</th>\n",
       "      <th>Date</th>\n",
       "      <th>Location</th>\n",
       "      <th>Incident Number</th>\n",
       "      <th>Street2</th>\n",
       "    </tr>\n",
       "  </thead>\n",
       "  <tbody>\n",
       "    <tr>\n",
       "      <th>0</th>\n",
       "      <td>576</td>\n",
       "      <td>Domestic Disturbance</td>\n",
       "      <td>10/01/2011 07:10:00 PM</td>\n",
       "      <td>Park St</td>\n",
       "      <td>11BU023135</td>\n",
       "      <td>NaN</td>\n",
       "    </tr>\n",
       "    <tr>\n",
       "      <th>1</th>\n",
       "      <td>584</td>\n",
       "      <td>Traffic</td>\n",
       "      <td>10/01/2011 08:58:00 PM</td>\n",
       "      <td>S Winooski Ave/Bank St</td>\n",
       "      <td>11BU023143</td>\n",
       "      <td>Pine St</td>\n",
       "    </tr>\n",
       "    <tr>\n",
       "      <th>2</th>\n",
       "      <td>586</td>\n",
       "      <td>Intoxication</td>\n",
       "      <td>10/01/2011 09:13:00 PM</td>\n",
       "      <td>Pearl St</td>\n",
       "      <td>11BU023145</td>\n",
       "      <td>NaN</td>\n",
       "    </tr>\n",
       "    <tr>\n",
       "      <th>3</th>\n",
       "      <td>587</td>\n",
       "      <td>Noise</td>\n",
       "      <td>10/01/2011 09:25:00 PM</td>\n",
       "      <td>No Willard St</td>\n",
       "      <td>11BU023146</td>\n",
       "      <td>NaN</td>\n",
       "    </tr>\n",
       "    <tr>\n",
       "      <th>4</th>\n",
       "      <td>591</td>\n",
       "      <td>Noise</td>\n",
       "      <td>10/01/2011 10:03:00 PM</td>\n",
       "      <td>Peru St</td>\n",
       "      <td>11BU023150</td>\n",
       "      <td>NaN</td>\n",
       "    </tr>\n",
       "    <tr>\n",
       "      <th>5</th>\n",
       "      <td>592</td>\n",
       "      <td>Traffic</td>\n",
       "      <td>10/01/2011 10:32:00 PM</td>\n",
       "      <td>Pine St/Locust St</td>\n",
       "      <td>11BU023151</td>\n",
       "      <td>NaN</td>\n",
       "    </tr>\n",
       "    <tr>\n",
       "      <th>6</th>\n",
       "      <td>595</td>\n",
       "      <td>Intoxication</td>\n",
       "      <td>10/01/2011 10:53:00 PM</td>\n",
       "      <td>Colchester Ave</td>\n",
       "      <td>11BU023154</td>\n",
       "      <td>NaN</td>\n",
       "    </tr>\n",
       "    <tr>\n",
       "      <th>7</th>\n",
       "      <td>599</td>\n",
       "      <td>Traffic</td>\n",
       "      <td>10/01/2011 11:40:00 PM</td>\n",
       "      <td>S Winooski Ave/Bank St</td>\n",
       "      <td>11BU023158</td>\n",
       "      <td>NaN</td>\n",
       "    </tr>\n",
       "    <tr>\n",
       "      <th>8</th>\n",
       "      <td>602</td>\n",
       "      <td>Noise</td>\n",
       "      <td>10/02/2011 12:02:00 AM</td>\n",
       "      <td>North St/N Winooski Ave</td>\n",
       "      <td>11BU023161</td>\n",
       "      <td>NaN</td>\n",
       "    </tr>\n",
       "    <tr>\n",
       "      <th>9</th>\n",
       "      <td>603</td>\n",
       "      <td>Assault - Simple</td>\n",
       "      <td>10/02/2011 12:10:00 AM</td>\n",
       "      <td>Converse Ct</td>\n",
       "      <td>11BU023162</td>\n",
       "      <td>NaN</td>\n",
       "    </tr>\n",
       "  </tbody>\n",
       "</table>\n",
       "</div>"
      ],
      "text/plain": [
       "   Incident Id             Call Type                    Date  \\\n",
       "0          576  Domestic Disturbance  10/01/2011 07:10:00 PM   \n",
       "1          584               Traffic  10/01/2011 08:58:00 PM   \n",
       "2          586          Intoxication  10/01/2011 09:13:00 PM   \n",
       "3          587                 Noise  10/01/2011 09:25:00 PM   \n",
       "4          591                 Noise  10/01/2011 10:03:00 PM   \n",
       "5          592               Traffic  10/01/2011 10:32:00 PM   \n",
       "6          595          Intoxication  10/01/2011 10:53:00 PM   \n",
       "7          599               Traffic  10/01/2011 11:40:00 PM   \n",
       "8          602                 Noise  10/02/2011 12:02:00 AM   \n",
       "9          603      Assault - Simple  10/02/2011 12:10:00 AM   \n",
       "\n",
       "                  Location Incident Number  Street2  \n",
       "0                  Park St      11BU023135      NaN  \n",
       "1   S Winooski Ave/Bank St      11BU023143  Pine St  \n",
       "2                 Pearl St      11BU023145      NaN  \n",
       "3            No Willard St      11BU023146      NaN  \n",
       "4                  Peru St      11BU023150      NaN  \n",
       "5        Pine St/Locust St      11BU023151      NaN  \n",
       "6           Colchester Ave      11BU023154      NaN  \n",
       "7   S Winooski Ave/Bank St      11BU023158      NaN  \n",
       "8  North St/N Winooski Ave      11BU023161      NaN  \n",
       "9              Converse Ct      11BU023162      NaN  "
      ]
     },
     "execution_count": 16,
     "metadata": {},
     "output_type": "execute_result"
    }
   ],
   "source": [
    "# Replace based on conditional statements for another column\n",
    "wholedf.loc[(wholedf['Incident Number'] == \"11BU023143\"), 'Street2'] = \"Pine St\"\n",
    "wholedf.head(10)"
   ]
  },
  {
   "cell_type": "markdown",
   "metadata": {},
   "source": [
    "Value Counts\n",
    "------------"
   ]
  },
  {
   "cell_type": "code",
   "execution_count": 17,
   "metadata": {
    "collapsed": false
   },
   "outputs": [
    {
     "data": {
      "text/plain": [
       "Traffic                        11747\n",
       "Noise                           3422\n",
       "Intoxication                    2640\n",
       "Trespass                        2616\n",
       "Ordinance Violation - Other     1768\n",
       "Domestic Disturbance            1429\n",
       "Mental Health Issue             1225\n",
       "Vandalism                       1222\n",
       "Burglary                         872\n",
       "Larceny - from Building          854\n",
       "Assault - Simple                 484\n",
       "Stolen Vehicle                   154\n",
       "Domestic Assault - Misd          118\n",
       "Assault - Aggravated              82\n",
       "Robbery                           67\n",
       "Larceny from a Person             53\n",
       "Airport AOA Violation             46\n",
       "Alcohol Offense                   32\n",
       "Inciting a Felony                  2\n",
       "Name: Call Type, dtype: int64"
      ]
     },
     "execution_count": 17,
     "metadata": {},
     "output_type": "execute_result"
    }
   ],
   "source": [
    "wholedf['Call Type'].value_counts()"
   ]
  },
  {
   "cell_type": "markdown",
   "metadata": {},
   "source": [
    "Cutting Columns\n",
    "----------"
   ]
  },
  {
   "cell_type": "code",
   "execution_count": 18,
   "metadata": {
    "collapsed": false
   },
   "outputs": [
    {
     "data": {
      "text/html": [
       "<div>\n",
       "<table border=\"1\" class=\"dataframe\">\n",
       "  <thead>\n",
       "    <tr style=\"text-align: right;\">\n",
       "      <th></th>\n",
       "      <th>Incident Id</th>\n",
       "      <th>Call Type</th>\n",
       "      <th>Date</th>\n",
       "      <th>Location</th>\n",
       "      <th>Incident Number</th>\n",
       "      <th>Street2</th>\n",
       "    </tr>\n",
       "  </thead>\n",
       "  <tbody>\n",
       "    <tr>\n",
       "      <th>0</th>\n",
       "      <td>576</td>\n",
       "      <td>Domestic Disturbance</td>\n",
       "      <td>10/01/2011 07:10:00 PM</td>\n",
       "      <td>Park St</td>\n",
       "      <td>11BU023135</td>\n",
       "      <td>NaN</td>\n",
       "    </tr>\n",
       "    <tr>\n",
       "      <th>1</th>\n",
       "      <td>584</td>\n",
       "      <td>Traffic</td>\n",
       "      <td>10/01/2011 08:58:00 PM</td>\n",
       "      <td>S Winooski Ave/Bank St</td>\n",
       "      <td>11BU023143</td>\n",
       "      <td>Pine St</td>\n",
       "    </tr>\n",
       "  </tbody>\n",
       "</table>\n",
       "</div>"
      ],
      "text/plain": [
       "   Incident Id             Call Type                    Date  \\\n",
       "0          576  Domestic Disturbance  10/01/2011 07:10:00 PM   \n",
       "1          584               Traffic  10/01/2011 08:58:00 PM   \n",
       "\n",
       "                 Location Incident Number  Street2  \n",
       "0                 Park St      11BU023135      NaN  \n",
       "1  S Winooski Ave/Bank St      11BU023143  Pine St  "
      ]
     },
     "execution_count": 18,
     "metadata": {},
     "output_type": "execute_result"
    }
   ],
   "source": [
    "wholedf.head(2)"
   ]
  },
  {
   "cell_type": "code",
   "execution_count": 19,
   "metadata": {
    "collapsed": false
   },
   "outputs": [
    {
     "data": {
      "text/html": [
       "<div>\n",
       "<table border=\"1\" class=\"dataframe\">\n",
       "  <thead>\n",
       "    <tr style=\"text-align: right;\">\n",
       "      <th></th>\n",
       "      <th>Call Type</th>\n",
       "      <th>Date</th>\n",
       "      <th>Location</th>\n",
       "      <th>Incident Number</th>\n",
       "      <th>Street2</th>\n",
       "    </tr>\n",
       "  </thead>\n",
       "  <tbody>\n",
       "    <tr>\n",
       "      <th>0</th>\n",
       "      <td>Domestic Disturbance</td>\n",
       "      <td>10/01/2011 07:10:00 PM</td>\n",
       "      <td>Park St</td>\n",
       "      <td>11BU023135</td>\n",
       "      <td>NaN</td>\n",
       "    </tr>\n",
       "    <tr>\n",
       "      <th>1</th>\n",
       "      <td>Traffic</td>\n",
       "      <td>10/01/2011 08:58:00 PM</td>\n",
       "      <td>S Winooski Ave/Bank St</td>\n",
       "      <td>11BU023143</td>\n",
       "      <td>Pine St</td>\n",
       "    </tr>\n",
       "    <tr>\n",
       "      <th>2</th>\n",
       "      <td>Intoxication</td>\n",
       "      <td>10/01/2011 09:13:00 PM</td>\n",
       "      <td>Pearl St</td>\n",
       "      <td>11BU023145</td>\n",
       "      <td>NaN</td>\n",
       "    </tr>\n",
       "    <tr>\n",
       "      <th>3</th>\n",
       "      <td>Noise</td>\n",
       "      <td>10/01/2011 09:25:00 PM</td>\n",
       "      <td>No Willard St</td>\n",
       "      <td>11BU023146</td>\n",
       "      <td>NaN</td>\n",
       "    </tr>\n",
       "  </tbody>\n",
       "</table>\n",
       "</div>"
      ],
      "text/plain": [
       "              Call Type                    Date                Location  \\\n",
       "0  Domestic Disturbance  10/01/2011 07:10:00 PM                 Park St   \n",
       "1               Traffic  10/01/2011 08:58:00 PM  S Winooski Ave/Bank St   \n",
       "2          Intoxication  10/01/2011 09:13:00 PM                Pearl St   \n",
       "3                 Noise  10/01/2011 09:25:00 PM           No Willard St   \n",
       "\n",
       "  Incident Number  Street2  \n",
       "0      11BU023135      NaN  \n",
       "1      11BU023143  Pine St  \n",
       "2      11BU023145      NaN  \n",
       "3      11BU023146      NaN  "
      ]
     },
     "execution_count": 19,
     "metadata": {},
     "output_type": "execute_result"
    }
   ],
   "source": [
    "del wholedf['Incident Id']\n",
    "wholedf.head(4)"
   ]
  },
  {
   "cell_type": "markdown",
   "metadata": {},
   "source": [
    "Dicing and Subseting\n",
    "----------"
   ]
  },
  {
   "cell_type": "code",
   "execution_count": 20,
   "metadata": {
    "collapsed": false
   },
   "outputs": [
    {
     "data": {
      "text/plain": [
       "(50, 5)"
      ]
     },
     "execution_count": 20,
     "metadata": {},
     "output_type": "execute_result"
    }
   ],
   "source": [
    "# Returns first row through the specified number of rows, in this case 50\n",
    "subdf = wholedf[:50]\n",
    "subdf.shape"
   ]
  },
  {
   "cell_type": "code",
   "execution_count": 21,
   "metadata": {
    "collapsed": false
   },
   "outputs": [
    {
     "data": {
      "text/plain": [
       "(28733, 5)"
      ]
     },
     "execution_count": 21,
     "metadata": {},
     "output_type": "execute_result"
    }
   ],
   "source": [
    "# Returns from row 100 through to the end of the dataframe\n",
    "subdf = wholedf[100:]\n",
    "subdf.shape"
   ]
  },
  {
   "cell_type": "code",
   "execution_count": 22,
   "metadata": {
    "collapsed": false
   },
   "outputs": [
    {
     "data": {
      "text/plain": [
       "0    10/01/2011 07:10:00 PM\n",
       "1    10/01/2011 08:58:00 PM\n",
       "Name: Date, dtype: object"
      ]
     },
     "execution_count": 22,
     "metadata": {},
     "output_type": "execute_result"
    }
   ],
   "source": [
    "# Returns a single column as an object array\n",
    "tooshortdf = wholedf['Date']\n",
    "tooshortdf.head(2)"
   ]
  },
  {
   "cell_type": "code",
   "execution_count": 23,
   "metadata": {
    "collapsed": false
   },
   "outputs": [
    {
     "data": {
      "text/html": [
       "<div>\n",
       "<table border=\"1\" class=\"dataframe\">\n",
       "  <thead>\n",
       "    <tr style=\"text-align: right;\">\n",
       "      <th></th>\n",
       "      <th>Date</th>\n",
       "      <th>Call Type</th>\n",
       "    </tr>\n",
       "  </thead>\n",
       "  <tbody>\n",
       "    <tr>\n",
       "      <th>0</th>\n",
       "      <td>10/01/2011 07:10:00 PM</td>\n",
       "      <td>Domestic Disturbance</td>\n",
       "    </tr>\n",
       "    <tr>\n",
       "      <th>1</th>\n",
       "      <td>10/01/2011 08:58:00 PM</td>\n",
       "      <td>Traffic</td>\n",
       "    </tr>\n",
       "  </tbody>\n",
       "</table>\n",
       "</div>"
      ],
      "text/plain": [
       "                     Date             Call Type\n",
       "0  10/01/2011 07:10:00 PM  Domestic Disturbance\n",
       "1  10/01/2011 08:58:00 PM               Traffic"
      ]
     },
     "execution_count": 23,
     "metadata": {},
     "output_type": "execute_result"
    }
   ],
   "source": [
    "# Returns several columns in a new data frame\n",
    "shortdf = wholedf[['Date','Call Type']]\n",
    "shortdf.head(2)"
   ]
  },
  {
   "cell_type": "code",
   "execution_count": 24,
   "metadata": {
    "collapsed": false
   },
   "outputs": [
    {
     "name": "stdout",
     "output_type": "stream",
     "text": [
      "(112, 5)\n"
     ]
    },
    {
     "data": {
      "text/html": [
       "<div>\n",
       "<table border=\"1\" class=\"dataframe\">\n",
       "  <thead>\n",
       "    <tr style=\"text-align: right;\">\n",
       "      <th></th>\n",
       "      <th>Call Type</th>\n",
       "      <th>Date</th>\n",
       "      <th>Location</th>\n",
       "      <th>Incident Number</th>\n",
       "      <th>Street2</th>\n",
       "    </tr>\n",
       "  </thead>\n",
       "  <tbody>\n",
       "    <tr>\n",
       "      <th>0</th>\n",
       "      <td>Domestic Disturbance</td>\n",
       "      <td>10/01/2011 07:10:00 PM</td>\n",
       "      <td>Park St</td>\n",
       "      <td>11BU023135</td>\n",
       "      <td>NaN</td>\n",
       "    </tr>\n",
       "    <tr>\n",
       "      <th>186</th>\n",
       "      <td>Domestic Disturbance</td>\n",
       "      <td>10/08/2011 02:25:00 PM</td>\n",
       "      <td>Park St</td>\n",
       "      <td>11BU023690</td>\n",
       "      <td>NaN</td>\n",
       "    </tr>\n",
       "    <tr>\n",
       "      <th>189</th>\n",
       "      <td>Domestic Disturbance</td>\n",
       "      <td>10/08/2011 02:36:00 PM</td>\n",
       "      <td>Park St</td>\n",
       "      <td>11BU023695</td>\n",
       "      <td>NaN</td>\n",
       "    </tr>\n",
       "    <tr>\n",
       "      <th>672</th>\n",
       "      <td>Noise</td>\n",
       "      <td>10/21/2011 10:40:00 PM</td>\n",
       "      <td>Park St</td>\n",
       "      <td>11BU024948</td>\n",
       "      <td>NaN</td>\n",
       "    </tr>\n",
       "    <tr>\n",
       "      <th>682</th>\n",
       "      <td>Noise</td>\n",
       "      <td>10/22/2011 01:39:00 AM</td>\n",
       "      <td>Park St</td>\n",
       "      <td>11BU024968</td>\n",
       "      <td>NaN</td>\n",
       "    </tr>\n",
       "  </tbody>\n",
       "</table>\n",
       "</div>"
      ],
      "text/plain": [
       "                Call Type                    Date Location Incident Number  \\\n",
       "0    Domestic Disturbance  10/01/2011 07:10:00 PM  Park St      11BU023135   \n",
       "186  Domestic Disturbance  10/08/2011 02:25:00 PM  Park St      11BU023690   \n",
       "189  Domestic Disturbance  10/08/2011 02:36:00 PM  Park St      11BU023695   \n",
       "672                 Noise  10/21/2011 10:40:00 PM  Park St      11BU024948   \n",
       "682                 Noise  10/22/2011 01:39:00 AM  Park St      11BU024968   \n",
       "\n",
       "    Street2  \n",
       "0       NaN  \n",
       "186     NaN  \n",
       "189     NaN  \n",
       "672     NaN  \n",
       "682     NaN  "
      ]
     },
     "execution_count": 24,
     "metadata": {},
     "output_type": "execute_result"
    }
   ],
   "source": [
    "# Cuts the dateframe down based a condition\n",
    "shorterdf = wholedf[(wholedf['Location'] == \"Park St\")]\n",
    "print(shorterdf.shape)\n",
    "shorterdf.head(5)"
   ]
  },
  {
   "cell_type": "code",
   "execution_count": 25,
   "metadata": {
    "collapsed": false
   },
   "outputs": [
    {
     "name": "stdout",
     "output_type": "stream",
     "text": [
      "(16, 5)\n"
     ]
    },
    {
     "data": {
      "text/html": [
       "<div>\n",
       "<table border=\"1\" class=\"dataframe\">\n",
       "  <thead>\n",
       "    <tr style=\"text-align: right;\">\n",
       "      <th></th>\n",
       "      <th>Call Type</th>\n",
       "      <th>Date</th>\n",
       "      <th>Location</th>\n",
       "      <th>Incident Number</th>\n",
       "      <th>Street2</th>\n",
       "    </tr>\n",
       "  </thead>\n",
       "  <tbody>\n",
       "    <tr>\n",
       "      <th>0</th>\n",
       "      <td>Domestic Disturbance</td>\n",
       "      <td>10/01/2011 07:10:00 PM</td>\n",
       "      <td>Park St</td>\n",
       "      <td>11BU023135</td>\n",
       "      <td>NaN</td>\n",
       "    </tr>\n",
       "    <tr>\n",
       "      <th>186</th>\n",
       "      <td>Domestic Disturbance</td>\n",
       "      <td>10/08/2011 02:25:00 PM</td>\n",
       "      <td>Park St</td>\n",
       "      <td>11BU023690</td>\n",
       "      <td>NaN</td>\n",
       "    </tr>\n",
       "    <tr>\n",
       "      <th>189</th>\n",
       "      <td>Domestic Disturbance</td>\n",
       "      <td>10/08/2011 02:36:00 PM</td>\n",
       "      <td>Park St</td>\n",
       "      <td>11BU023695</td>\n",
       "      <td>NaN</td>\n",
       "    </tr>\n",
       "    <tr>\n",
       "      <th>5958</th>\n",
       "      <td>Domestic Disturbance</td>\n",
       "      <td>03/24/2012 05:10:00 PM</td>\n",
       "      <td>Park St</td>\n",
       "      <td>12BU007124</td>\n",
       "      <td>NaN</td>\n",
       "    </tr>\n",
       "    <tr>\n",
       "      <th>6405</th>\n",
       "      <td>Domestic Disturbance</td>\n",
       "      <td>04/05/2012 11:26:00 PM</td>\n",
       "      <td>Park St</td>\n",
       "      <td>12BU008127</td>\n",
       "      <td>NaN</td>\n",
       "    </tr>\n",
       "  </tbody>\n",
       "</table>\n",
       "</div>"
      ],
      "text/plain": [
       "                 Call Type                    Date Location Incident Number  \\\n",
       "0     Domestic Disturbance  10/01/2011 07:10:00 PM  Park St      11BU023135   \n",
       "186   Domestic Disturbance  10/08/2011 02:25:00 PM  Park St      11BU023690   \n",
       "189   Domestic Disturbance  10/08/2011 02:36:00 PM  Park St      11BU023695   \n",
       "5958  Domestic Disturbance  03/24/2012 05:10:00 PM  Park St      12BU007124   \n",
       "6405  Domestic Disturbance  04/05/2012 11:26:00 PM  Park St      12BU008127   \n",
       "\n",
       "     Street2  \n",
       "0        NaN  \n",
       "186      NaN  \n",
       "189      NaN  \n",
       "5958     NaN  \n",
       "6405     NaN  "
      ]
     },
     "execution_count": 25,
     "metadata": {},
     "output_type": "execute_result"
    }
   ],
   "source": [
    "# Cuts the dateframe down based multiple condition, this can be an AND & but it also can be OR which is |\n",
    "shorterstilldf = wholedf[(wholedf['Location'] == \"Park St\") & (wholedf['Call Type'] == \"Domestic Disturbance\")]\n",
    "print(shorterstilldf.shape)\n",
    "shorterstilldf.head(5)"
   ]
  },
  {
   "cell_type": "code",
   "execution_count": 46,
   "metadata": {
    "collapsed": false
   },
   "outputs": [
    {
     "data": {
      "text/html": [
       "<div>\n",
       "<table border=\"1\" class=\"dataframe\">\n",
       "  <thead>\n",
       "    <tr style=\"text-align: right;\">\n",
       "      <th></th>\n",
       "      <th>Call Type</th>\n",
       "      <th>Location</th>\n",
       "      <th>Count</th>\n",
       "    </tr>\n",
       "  </thead>\n",
       "  <tbody>\n",
       "    <tr>\n",
       "      <th>0</th>\n",
       "      <td>Airport AOA Violation</td>\n",
       "      <td>airport</td>\n",
       "      <td>1</td>\n",
       "    </tr>\n",
       "    <tr>\n",
       "      <th>1</th>\n",
       "      <td>Airport AOA Violation</td>\n",
       "      <td>airport dr</td>\n",
       "      <td>40</td>\n",
       "    </tr>\n",
       "    <tr>\n",
       "      <th>2</th>\n",
       "      <td>Airport AOA Violation</td>\n",
       "      <td>airport pkwy</td>\n",
       "      <td>1</td>\n",
       "    </tr>\n",
       "    <tr>\n",
       "      <th>3</th>\n",
       "      <td>Airport AOA Violation</td>\n",
       "      <td>biap</td>\n",
       "      <td>4</td>\n",
       "    </tr>\n",
       "    <tr>\n",
       "      <th>4</th>\n",
       "      <td>Alcohol Offense</td>\n",
       "      <td>bright st</td>\n",
       "      <td>3</td>\n",
       "    </tr>\n",
       "    <tr>\n",
       "      <th>5</th>\n",
       "      <td>Alcohol Offense</td>\n",
       "      <td>buell st</td>\n",
       "      <td>2</td>\n",
       "    </tr>\n",
       "    <tr>\n",
       "      <th>6</th>\n",
       "      <td>Alcohol Offense</td>\n",
       "      <td>cherry st</td>\n",
       "      <td>1</td>\n",
       "    </tr>\n",
       "    <tr>\n",
       "      <th>7</th>\n",
       "      <td>Alcohol Offense</td>\n",
       "      <td>church st</td>\n",
       "      <td>6</td>\n",
       "    </tr>\n",
       "    <tr>\n",
       "      <th>8</th>\n",
       "      <td>Alcohol Offense</td>\n",
       "      <td>colchester ave</td>\n",
       "      <td>1</td>\n",
       "    </tr>\n",
       "    <tr>\n",
       "      <th>9</th>\n",
       "      <td>Alcohol Offense</td>\n",
       "      <td>hickok pl</td>\n",
       "      <td>1</td>\n",
       "    </tr>\n",
       "    <tr>\n",
       "      <th>10</th>\n",
       "      <td>Alcohol Offense</td>\n",
       "      <td>johnson st</td>\n",
       "      <td>1</td>\n",
       "    </tr>\n",
       "    <tr>\n",
       "      <th>11</th>\n",
       "      <td>Alcohol Offense</td>\n",
       "      <td>king st ferry dock</td>\n",
       "      <td>1</td>\n",
       "    </tr>\n",
       "    <tr>\n",
       "      <th>12</th>\n",
       "      <td>Alcohol Offense</td>\n",
       "      <td>lake st</td>\n",
       "      <td>1</td>\n",
       "    </tr>\n",
       "    <tr>\n",
       "      <th>13</th>\n",
       "      <td>Alcohol Offense</td>\n",
       "      <td>main st</td>\n",
       "      <td>2</td>\n",
       "    </tr>\n",
       "    <tr>\n",
       "      <th>14</th>\n",
       "      <td>Alcohol Offense</td>\n",
       "      <td>n union st</td>\n",
       "      <td>1</td>\n",
       "    </tr>\n",
       "  </tbody>\n",
       "</table>\n",
       "</div>"
      ],
      "text/plain": [
       "                Call Type            Location  Count\n",
       "0   Airport AOA Violation             airport      1\n",
       "1   Airport AOA Violation          airport dr     40\n",
       "2   Airport AOA Violation        airport pkwy      1\n",
       "3   Airport AOA Violation                biap      4\n",
       "4         Alcohol Offense           bright st      3\n",
       "5         Alcohol Offense            buell st      2\n",
       "6         Alcohol Offense           cherry st      1\n",
       "7         Alcohol Offense           church st      6\n",
       "8         Alcohol Offense      colchester ave      1\n",
       "9         Alcohol Offense           hickok pl      1\n",
       "10        Alcohol Offense          johnson st      1\n",
       "11        Alcohol Offense  king st ferry dock      1\n",
       "12        Alcohol Offense             lake st      1\n",
       "13        Alcohol Offense             main st      2\n",
       "14        Alcohol Offense          n union st      1"
      ]
     },
     "execution_count": 46,
     "metadata": {},
     "output_type": "execute_result"
    }
   ],
   "source": [
    "# Create a subset based on two variables and return the size\n",
    "countdf = wholedf.groupby(['Call Type', 'Location']).size().reset_index(name=\"Count\")\n",
    "countdf.head(15)"
   ]
  },
  {
   "cell_type": "markdown",
   "metadata": {},
   "source": [
    "Concatenating Together\n",
    "-----------"
   ]
  },
  {
   "cell_type": "code",
   "execution_count": 26,
   "metadata": {
    "collapsed": false
   },
   "outputs": [
    {
     "data": {
      "text/html": [
       "<div>\n",
       "<table border=\"1\" class=\"dataframe\">\n",
       "  <thead>\n",
       "    <tr style=\"text-align: right;\">\n",
       "      <th></th>\n",
       "      <th>Call Type</th>\n",
       "      <th>Date</th>\n",
       "      <th>Location</th>\n",
       "    </tr>\n",
       "  </thead>\n",
       "  <tbody>\n",
       "    <tr>\n",
       "      <th>0</th>\n",
       "      <td>Domestic Disturbance</td>\n",
       "      <td>10/01/2011 07:10:00 PM</td>\n",
       "      <td>Park St</td>\n",
       "    </tr>\n",
       "    <tr>\n",
       "      <th>1</th>\n",
       "      <td>Traffic</td>\n",
       "      <td>10/01/2011 08:58:00 PM</td>\n",
       "      <td>S Winooski Ave/Bank St</td>\n",
       "    </tr>\n",
       "    <tr>\n",
       "      <th>2</th>\n",
       "      <td>Intoxication</td>\n",
       "      <td>10/01/2011 09:13:00 PM</td>\n",
       "      <td>Pearl St</td>\n",
       "    </tr>\n",
       "  </tbody>\n",
       "</table>\n",
       "</div>"
      ],
      "text/plain": [
       "              Call Type                    Date                Location\n",
       "0  Domestic Disturbance  10/01/2011 07:10:00 PM                 Park St\n",
       "1               Traffic  10/01/2011 08:58:00 PM  S Winooski Ave/Bank St\n",
       "2          Intoxication  10/01/2011 09:13:00 PM                Pearl St"
      ]
     },
     "execution_count": 26,
     "metadata": {},
     "output_type": "execute_result"
    }
   ],
   "source": [
    "# Create sets of data\n",
    "calltype = wholedf[['Call Type','Date']]\n",
    "location = wholedf['Location']\n",
    "\n",
    "\n",
    "# join it back together with an inner join based on the index number\n",
    "newdf = pd.concat([calltype,location], axis=1)\n",
    "newdf.head(3)"
   ]
  },
  {
   "cell_type": "markdown",
   "metadata": {},
   "source": [
    "Data Cleanup\n",
    "---------"
   ]
  },
  {
   "cell_type": "code",
   "execution_count": 27,
   "metadata": {
    "collapsed": false
   },
   "outputs": [],
   "source": [
    "# make all location lower case\n",
    "wholedf.Location = wholedf.Location.str.lower()\n",
    "\n",
    "# Split it into two parts\n",
    "wholedf['Location'], wholedf['Street2'] = wholedf['Location'].str.split('/', 1).str\n",
    "\n",
    "# Remove trailing spaces from string\n",
    "wholedf['Location'] = wholedf.Location.str.rstrip()\n",
    "wholedf['Street2'] = wholedf.Street2.str.rstrip()"
   ]
  },
  {
   "cell_type": "code",
   "execution_count": 28,
   "metadata": {
    "collapsed": false
   },
   "outputs": [],
   "source": [
    "# Fix some of the spelling mistakes/differences\n",
    "wholedf['Location'] = wholedf['Location'].str.replace(\"drive\",\"dr\")\n",
    "wholedf['Location'] = wholedf['Location'].str.replace(\"road\",\"rd\")\n",
    "wholedf['Location'] = wholedf['Location'].str.replace(\"rd.\",\"rd\")"
   ]
  },
  {
   "cell_type": "markdown",
   "metadata": {},
   "source": [
    "Creating Summaries\n",
    "----------"
   ]
  },
  {
   "cell_type": "code",
   "execution_count": 52,
   "metadata": {
    "collapsed": false
   },
   "outputs": [
    {
     "data": {
      "text/html": [
       "<div>\n",
       "<table border=\"1\" class=\"dataframe\">\n",
       "  <thead>\n",
       "    <tr style=\"text-align: right;\">\n",
       "      <th></th>\n",
       "      <th>Type</th>\n",
       "      <th>Count</th>\n",
       "      <th>Total</th>\n",
       "      <th>Percentage</th>\n",
       "    </tr>\n",
       "  </thead>\n",
       "  <tbody>\n",
       "    <tr>\n",
       "      <th>16</th>\n",
       "      <td>Traffic</td>\n",
       "      <td>11747</td>\n",
       "      <td>28833</td>\n",
       "      <td>0.407415</td>\n",
       "    </tr>\n",
       "    <tr>\n",
       "      <th>12</th>\n",
       "      <td>Noise</td>\n",
       "      <td>3422</td>\n",
       "      <td>28833</td>\n",
       "      <td>0.118683</td>\n",
       "    </tr>\n",
       "    <tr>\n",
       "      <th>8</th>\n",
       "      <td>Intoxication</td>\n",
       "      <td>2640</td>\n",
       "      <td>28833</td>\n",
       "      <td>0.091562</td>\n",
       "    </tr>\n",
       "    <tr>\n",
       "      <th>17</th>\n",
       "      <td>Trespass</td>\n",
       "      <td>2616</td>\n",
       "      <td>28833</td>\n",
       "      <td>0.090729</td>\n",
       "    </tr>\n",
       "    <tr>\n",
       "      <th>13</th>\n",
       "      <td>Ordinance Violation - Other</td>\n",
       "      <td>1768</td>\n",
       "      <td>28833</td>\n",
       "      <td>0.061319</td>\n",
       "    </tr>\n",
       "    <tr>\n",
       "      <th>6</th>\n",
       "      <td>Domestic Disturbance</td>\n",
       "      <td>1429</td>\n",
       "      <td>28833</td>\n",
       "      <td>0.049561</td>\n",
       "    </tr>\n",
       "    <tr>\n",
       "      <th>11</th>\n",
       "      <td>Mental Health Issue</td>\n",
       "      <td>1225</td>\n",
       "      <td>28833</td>\n",
       "      <td>0.042486</td>\n",
       "    </tr>\n",
       "    <tr>\n",
       "      <th>18</th>\n",
       "      <td>Vandalism</td>\n",
       "      <td>1222</td>\n",
       "      <td>28833</td>\n",
       "      <td>0.042382</td>\n",
       "    </tr>\n",
       "    <tr>\n",
       "      <th>4</th>\n",
       "      <td>Burglary</td>\n",
       "      <td>872</td>\n",
       "      <td>28833</td>\n",
       "      <td>0.030243</td>\n",
       "    </tr>\n",
       "    <tr>\n",
       "      <th>9</th>\n",
       "      <td>Larceny - from Building</td>\n",
       "      <td>854</td>\n",
       "      <td>28833</td>\n",
       "      <td>0.029619</td>\n",
       "    </tr>\n",
       "    <tr>\n",
       "      <th>3</th>\n",
       "      <td>Assault - Simple</td>\n",
       "      <td>484</td>\n",
       "      <td>28833</td>\n",
       "      <td>0.016786</td>\n",
       "    </tr>\n",
       "    <tr>\n",
       "      <th>15</th>\n",
       "      <td>Stolen Vehicle</td>\n",
       "      <td>154</td>\n",
       "      <td>28833</td>\n",
       "      <td>0.005341</td>\n",
       "    </tr>\n",
       "    <tr>\n",
       "      <th>5</th>\n",
       "      <td>Domestic Assault - Misd</td>\n",
       "      <td>118</td>\n",
       "      <td>28833</td>\n",
       "      <td>0.004093</td>\n",
       "    </tr>\n",
       "    <tr>\n",
       "      <th>2</th>\n",
       "      <td>Assault - Aggravated</td>\n",
       "      <td>82</td>\n",
       "      <td>28833</td>\n",
       "      <td>0.002844</td>\n",
       "    </tr>\n",
       "    <tr>\n",
       "      <th>14</th>\n",
       "      <td>Robbery</td>\n",
       "      <td>67</td>\n",
       "      <td>28833</td>\n",
       "      <td>0.002324</td>\n",
       "    </tr>\n",
       "  </tbody>\n",
       "</table>\n",
       "</div>"
      ],
      "text/plain": [
       "                           Type  Count  Total  Percentage\n",
       "16                      Traffic  11747  28833    0.407415\n",
       "12                        Noise   3422  28833    0.118683\n",
       "8                  Intoxication   2640  28833    0.091562\n",
       "17                     Trespass   2616  28833    0.090729\n",
       "13  Ordinance Violation - Other   1768  28833    0.061319\n",
       "6          Domestic Disturbance   1429  28833    0.049561\n",
       "11          Mental Health Issue   1225  28833    0.042486\n",
       "18                    Vandalism   1222  28833    0.042382\n",
       "4                      Burglary    872  28833    0.030243\n",
       "9       Larceny - from Building    854  28833    0.029619\n",
       "3              Assault - Simple    484  28833    0.016786\n",
       "15               Stolen Vehicle    154  28833    0.005341\n",
       "5       Domestic Assault - Misd    118  28833    0.004093\n",
       "2          Assault - Aggravated     82  28833    0.002844\n",
       "14                      Robbery     67  28833    0.002324"
      ]
     },
     "execution_count": 52,
     "metadata": {},
     "output_type": "execute_result"
    }
   ],
   "source": [
    "countviolationdf = wholedf[['Call Type', 'Date']].groupby(['Call Type'], as_index=False).count().sort_values(by='Date',ascending=0)\n",
    "countviolationdf.columns = ['Type','Count']\n",
    "countviolationdf['Total']= countviolationdf['Count'].sum()\n",
    "countviolationdf['Percentage'] = countviolationdf['Count'] / countviolationdf['Total']\n",
    "countviolationdf.head(15)"
   ]
  },
  {
   "cell_type": "markdown",
   "metadata": {},
   "source": [
    "Export to CSV\n",
    "-----------"
   ]
  },
  {
   "cell_type": "code",
   "execution_count": 40,
   "metadata": {
    "collapsed": true
   },
   "outputs": [],
   "source": [
    "countviolationdf.to_csv('countviolation.csv', index = False)"
   ]
  },
  {
   "cell_type": "markdown",
   "metadata": {},
   "source": [
    "Time Series\n",
    "----------"
   ]
  },
  {
   "cell_type": "code",
   "execution_count": 31,
   "metadata": {
    "collapsed": false
   },
   "outputs": [
    {
     "data": {
      "text/html": [
       "<div>\n",
       "<table border=\"1\" class=\"dataframe\">\n",
       "  <thead>\n",
       "    <tr style=\"text-align: right;\">\n",
       "      <th></th>\n",
       "      <th>Call Type</th>\n",
       "      <th>Date</th>\n",
       "      <th>Location</th>\n",
       "      <th>Incident Number</th>\n",
       "      <th>Street2</th>\n",
       "      <th>timeonly</th>\n",
       "      <th>dateonly</th>\n",
       "    </tr>\n",
       "  </thead>\n",
       "  <tbody>\n",
       "    <tr>\n",
       "      <th>0</th>\n",
       "      <td>Domestic Disturbance</td>\n",
       "      <td>2011-10-01 19:10:00</td>\n",
       "      <td>park st</td>\n",
       "      <td>11BU023135</td>\n",
       "      <td>NaN</td>\n",
       "      <td>19:10:00</td>\n",
       "      <td>2011-10-01</td>\n",
       "    </tr>\n",
       "    <tr>\n",
       "      <th>1</th>\n",
       "      <td>Traffic</td>\n",
       "      <td>2011-10-01 20:58:00</td>\n",
       "      <td>s winooski ave</td>\n",
       "      <td>11BU023143</td>\n",
       "      <td>bank st</td>\n",
       "      <td>20:58:00</td>\n",
       "      <td>2011-10-01</td>\n",
       "    </tr>\n",
       "    <tr>\n",
       "      <th>2</th>\n",
       "      <td>Intoxication</td>\n",
       "      <td>2011-10-01 21:13:00</td>\n",
       "      <td>pearl st</td>\n",
       "      <td>11BU023145</td>\n",
       "      <td>NaN</td>\n",
       "      <td>21:13:00</td>\n",
       "      <td>2011-10-01</td>\n",
       "    </tr>\n",
       "    <tr>\n",
       "      <th>3</th>\n",
       "      <td>Noise</td>\n",
       "      <td>2011-10-01 21:25:00</td>\n",
       "      <td>no willardst</td>\n",
       "      <td>11BU023146</td>\n",
       "      <td>NaN</td>\n",
       "      <td>21:25:00</td>\n",
       "      <td>2011-10-01</td>\n",
       "    </tr>\n",
       "    <tr>\n",
       "      <th>4</th>\n",
       "      <td>Noise</td>\n",
       "      <td>2011-10-01 22:03:00</td>\n",
       "      <td>peru st</td>\n",
       "      <td>11BU023150</td>\n",
       "      <td>NaN</td>\n",
       "      <td>22:03:00</td>\n",
       "      <td>2011-10-01</td>\n",
       "    </tr>\n",
       "  </tbody>\n",
       "</table>\n",
       "</div>"
      ],
      "text/plain": [
       "              Call Type                Date        Location Incident Number  \\\n",
       "0  Domestic Disturbance 2011-10-01 19:10:00         park st      11BU023135   \n",
       "1               Traffic 2011-10-01 20:58:00  s winooski ave      11BU023143   \n",
       "2          Intoxication 2011-10-01 21:13:00        pearl st      11BU023145   \n",
       "3                 Noise 2011-10-01 21:25:00    no willardst      11BU023146   \n",
       "4                 Noise 2011-10-01 22:03:00         peru st      11BU023150   \n",
       "\n",
       "   Street2  timeonly    dateonly  \n",
       "0      NaN  19:10:00  2011-10-01  \n",
       "1  bank st  20:58:00  2011-10-01  \n",
       "2      NaN  21:13:00  2011-10-01  \n",
       "3      NaN  21:25:00  2011-10-01  \n",
       "4      NaN  22:03:00  2011-10-01  "
      ]
     },
     "execution_count": 31,
     "metadata": {},
     "output_type": "execute_result"
    }
   ],
   "source": [
    "# Convert Date to datetime value and Split date out into seperate date and time only\n",
    "wholedf['Date'] = pd.to_datetime(wholedf['Date'])\n",
    "\n",
    "# Split out a time series event\n",
    "wholedf['timeonly'],wholedf['dateonly']= wholedf['Date'].apply(lambda x:x.time()), wholedf['Date'].apply(lambda x:x.date())\n",
    "wholedf.head(5)"
   ]
  },
  {
   "cell_type": "markdown",
   "metadata": {},
   "source": [
    "Data Visualization\n",
    "----------"
   ]
  },
  {
   "cell_type": "code",
   "execution_count": 32,
   "metadata": {
    "collapsed": false
   },
   "outputs": [
    {
     "data": {
      "image/png": "[encoded data removed]",
      "text/plain": [
       "<matplotlib.figure.Figure at 0x234690d9860>"
      ]
     },
     "metadata": {},
     "output_type": "display_data"
    }
   ],
   "source": [
    "sns.countplot(y=\"Call Type\", data=wholedf, order=countviolationdf['Type'], palette=\"Blues_r\")\n",
    "plt.title(\"Total Count Per Violation\")\n",
    "plt.show()"
   ]
  },
  {
   "cell_type": "code",
   "execution_count": 33,
   "metadata": {
    "collapsed": false
   },
   "outputs": [
    {
     "data": {
      "image/png": "[encoded data removed]",
      "text/plain": [
       "<matplotlib.figure.Figure at 0x23469dfc710>"
      ]
     },
     "metadata": {},
     "output_type": "display_data"
    }
   ],
   "source": [
    "datedf = wholedf[['dateonly', 'Date']].groupby(['dateonly'], as_index=False).count().sort_values(by='dateonly',ascending=0)\n",
    "datedf = datedf.set_index(datedf.dateonly)\n",
    "del datedf['dateonly']\n",
    "datedf.columns = ['Count']\n",
    "\n",
    "#plot the result\n",
    "datedf.plot()\n",
    "plt.title('Count of Violation Over Time')\n",
    "plt.xlabel('Date')\n",
    "plt.show()"
   ]
  },
  {
   "cell_type": "code",
   "execution_count": 39,
   "metadata": {
    "collapsed": false
   },
   "outputs": [
    {
     "data": {
      "image/png": "[encoded data removed]",
      "text/plain": [
       "<matplotlib.figure.Figure at 0x23469aec048>"
      ]
     },
     "metadata": {},
     "output_type": "display_data"
    }
   ],
   "source": [
    "intoxdf = wholedf[(wholedf['Call Type'] == \"Intoxication\")]\n",
    "\n",
    "hourdf = intoxdf[['timeonly']].groupby(intoxdf['Date'].dt.hour, as_index=False).count()\n",
    "hourdf['Hour'] = [\"12AM\",\"1AM\",\"2AM\",\"3AM\",\"4AM\",\"5AM\",\"6AM\",\"7AM\",\"8AM\",\"9AM\",\"10AM\",\"11AM\",\"NOON\",\"1PM\",\"2PM\",\"3PM\",\"4PM\",\"5PM\",\"6PM\",\"7PM\",\"8PM\",\"9PM\",\"10PM\",\"11PM\"]\n",
    "hourdf.columns = ['Count','Hour']\n",
    "hourdf\n",
    "\n",
    "sns.barplot(x='Hour', y=\"Count\", data=hourdf, palette=\"PuBuGn_d\")\n",
    "plt.title(\"Intoxication Only - Count By Hour\")\n",
    "plt.xlabel(\"Hour\")\n",
    "plt.ylabel(\"Count\")\n",
    "plt.xticks(rotation=90)\n",
    "plt.show()"
   ]
  },
  {
   "cell_type": "markdown",
   "metadata": {},
   "source": [
    "Bonus\n",
    "-------\n",
    "How to tell how effecient the various ways to do something actually is by timing it"
   ]
  },
  {
   "cell_type": "code",
   "execution_count": 34,
   "metadata": {
    "collapsed": false
   },
   "outputs": [
    {
     "name": "stdout",
     "output_type": "stream",
     "text": [
      "The slowest run took 21.81 times longer than the fastest. This could mean that an intermediate result is being cached.\n",
      "100000 loops, best of 3: 2.97 µs per loop\n"
     ]
    }
   ],
   "source": [
    "%timeit [column for column in wholedf]"
   ]
  },
  {
   "cell_type": "code",
   "execution_count": 35,
   "metadata": {
    "collapsed": false
   },
   "outputs": [
    {
     "name": "stdout",
     "output_type": "stream",
     "text": [
      "The slowest run took 14.62 times longer than the fastest. This could mean that an intermediate result is being cached.\n",
      "1000000 loops, best of 3: 892 ns per loop\n"
     ]
    }
   ],
   "source": [
    "%timeit wholedf.columns.values.tolist()"
   ]
  },
  {
   "cell_type": "code",
   "execution_count": 36,
   "metadata": {
    "collapsed": false
   },
   "outputs": [
    {
     "name": "stdout",
     "output_type": "stream",
     "text": [
      "The slowest run took 11.04 times longer than the fastest. This could mean that an intermediate result is being cached.\n",
      "1000000 loops, best of 3: 1.72 µs per loop\n"
     ]
    }
   ],
   "source": [
    "% timeit list(wholedf.columns.values)"
   ]
  },
  {
   "cell_type": "code",
   "execution_count": 37,
   "metadata": {
    "collapsed": false
   },
   "outputs": [
    {
     "name": "stdout",
     "output_type": "stream",
     "text": [
      "The slowest run took 7.29 times longer than the fastest. This could mean that an intermediate result is being cached.\n",
      "100000 loops, best of 3: 4.5 µs per loop\n"
     ]
    }
   ],
   "source": [
    "%timeit list(wholedf)"
   ]
  }
 ],
 "metadata": {
  "anaconda-cloud": {},
  "kernelspec": {
   "display_name": "Python 3",
   "language": "python",
   "name": "python3"
  },
  "language_info": {
   "codemirror_mode": {
    "name": "ipython",
    "version": 3
   },
   "file_extension": ".py",
   "mimetype": "text/x-python",
   "name": "python",
   "nbconvert_exporter": "python",
   "pygments_lexer": "ipython3",
   "version": "3.7.1"
  }
 },
 "nbformat": 4,
 "nbformat_minor": 2
}
